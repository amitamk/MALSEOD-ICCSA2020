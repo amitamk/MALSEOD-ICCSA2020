{
 "cells": [
  {
   "cell_type": "markdown",
   "metadata": {},
   "source": [
    "<h3>Parameters used in magMasks:</h3>\n",
    "<ul>\n",
    "\t<li>pathImagemMag: the computer path where the Magnetogram image will be loaded from</li>\n",
    "    <li>bw_mask: the matrix of ?????????????????????????</li>\n",
    "</ul>\n",
    "\n",
    "<h3>Functions used in magMasks:</h3>\n",
    "<ul>\n",
    "    <li>calc_mu_hmi(thresh)</li>\n",
    "</ul>"
   ]
  },
  {
   "cell_type": "markdown",
   "metadata": {},
   "source": [
    "#### 1) Importing a file with all the library needed on the code:"
   ]
  },
  {
   "cell_type": "code",
   "execution_count": 1,
   "metadata": {},
   "outputs": [
    {
     "name": "stderr",
     "output_type": "stream",
     "text": [
      "Using TensorFlow backend.\n"
     ]
    }
   ],
   "source": [
    "from funcoes import *"
   ]
  },
  {
   "cell_type": "markdown",
   "metadata": {},
   "source": [
    "#### 2) Importing the defined values in settings.py. They are url, path, dataInicial, dataFinal, resolucao and sufixo.\n"
   ]
  },
  {
   "cell_type": "code",
   "execution_count": 3,
   "metadata": {},
   "outputs": [],
   "source": [
    "import settings"
   ]
  },
  {
   "cell_type": "markdown",
   "metadata": {},
   "source": [
    "#### 3) Importing the Input variables needed for this functions, that were saved in the preivous code (imagesMasks.py):"
   ]
  },
  {
   "cell_type": "code",
   "execution_count": null,
   "metadata": {},
   "outputs": [],
   "source": [
    "filename = path + 'IOFiles\\\\' + 'inputMagMasks.out'\n",
    "\n",
    "my_shelf = shelve.open(filename)\n",
    "\n",
    "for key in my_shelf:\n",
    "    globals()[key]=my_shelf[key]\n",
    "\n",
    "my_shelf.close()"
   ]
  },
  {
   "cell_type": "markdown",
   "metadata": {},
   "source": [
    "#### 4) Loading the magnetogram image:"
   ]
  },
  {
   "cell_type": "code",
   "execution_count": 4,
   "metadata": {},
   "outputs": [
    {
     "ename": "NameError",
     "evalue": "name 'pathImagemMag' is not defined",
     "output_type": "error",
     "traceback": [
      "\u001b[1;31m---------------------------------------------------------------------------\u001b[0m",
      "\u001b[1;31mNameError\u001b[0m                                 Traceback (most recent call last)",
      "\u001b[1;32m<ipython-input-4-b1b1c0e04580>\u001b[0m in \u001b[0;36m<module>\u001b[1;34m\u001b[0m\n\u001b[0;32m      1\u001b[0m \u001b[1;32mtry\u001b[0m\u001b[1;33m:\u001b[0m\u001b[1;33m\u001b[0m\u001b[1;33m\u001b[0m\u001b[0m\n\u001b[1;32m----> 2\u001b[1;33m     \u001b[0mimagemDaVez\u001b[0m \u001b[1;33m=\u001b[0m \u001b[0mcv2\u001b[0m\u001b[1;33m.\u001b[0m\u001b[0mimread\u001b[0m\u001b[1;33m(\u001b[0m\u001b[0mpathImagemMag\u001b[0m\u001b[1;33m)\u001b[0m\u001b[1;33m\u001b[0m\u001b[1;33m\u001b[0m\u001b[0m\n\u001b[0m\u001b[0;32m      3\u001b[0m \u001b[1;33m\u001b[0m\u001b[0m\n",
      "\u001b[1;31mNameError\u001b[0m: name 'pathImagemMag' is not defined",
      "\nDuring handling of the above exception, another exception occurred:\n",
      "\u001b[1;31mNameError\u001b[0m                                 Traceback (most recent call last)",
      "\u001b[1;32m<ipython-input-4-b1b1c0e04580>\u001b[0m in \u001b[0;36m<module>\u001b[1;34m\u001b[0m\n\u001b[0;32m      3\u001b[0m \u001b[1;33m\u001b[0m\u001b[0m\n\u001b[0;32m      4\u001b[0m \u001b[1;32mexcept\u001b[0m\u001b[1;33m:\u001b[0m\u001b[1;33m\u001b[0m\u001b[1;33m\u001b[0m\u001b[0m\n\u001b[1;32m----> 5\u001b[1;33m     \u001b[0mprint\u001b[0m\u001b[1;33m(\u001b[0m\u001b[1;34m\"magMasks: Problemas ao carregar a imagem \"\u001b[0m \u001b[1;33m+\u001b[0m \u001b[0mpathImagemMag\u001b[0m \u001b[1;33m+\u001b[0m \u001b[1;34m\"!\"\u001b[0m\u001b[1;33m)\u001b[0m\u001b[1;33m\u001b[0m\u001b[1;33m\u001b[0m\u001b[0m\n\u001b[0m",
      "\u001b[1;31mNameError\u001b[0m: name 'pathImagemMag' is not defined"
     ]
    }
   ],
   "source": [
    "try:\n",
    "    imagemDaVez = cv2.imread(pathImagemMag)\n",
    "\n",
    "except:\n",
    "    print(\"magMasks: Problemas ao carregar a imagem \" + pathImagemMag + \"!\")"
   ]
  },
  {
   "cell_type": "markdown",
   "metadata": {},
   "source": [
    "#### 5) Converting the image to gray scale and cleaning its background."
   ]
  },
  {
   "cell_type": "code",
   "execution_count": 3,
   "metadata": {},
   "outputs": [
    {
     "ename": "NameError",
     "evalue": "name 'pathImagemMag' is not defined",
     "output_type": "error",
     "traceback": [
      "\u001b[0;31m---------------------------------------------------------------------------\u001b[0m",
      "\u001b[0;31mNameError\u001b[0m                                 Traceback (most recent call last)",
      "\u001b[0;32m<ipython-input-3-35658518f914>\u001b[0m in \u001b[0;36m<module>\u001b[0;34m\u001b[0m\n\u001b[1;32m      1\u001b[0m \u001b[0;32mtry\u001b[0m\u001b[0;34m:\u001b[0m\u001b[0;34m\u001b[0m\u001b[0;34m\u001b[0m\u001b[0m\n\u001b[0;32m----> 2\u001b[0;31m     \u001b[0mimagemCinza\u001b[0m \u001b[0;34m=\u001b[0m \u001b[0mcv2\u001b[0m\u001b[0;34m.\u001b[0m\u001b[0mcvtColor\u001b[0m\u001b[0;34m(\u001b[0m\u001b[0mimagemDaVez\u001b[0m\u001b[0;34m,\u001b[0m \u001b[0mcv2\u001b[0m\u001b[0;34m.\u001b[0m\u001b[0mCOLOR_BGR2GRAY\u001b[0m\u001b[0;34m)\u001b[0m\u001b[0;34m\u001b[0m\u001b[0;34m\u001b[0m\u001b[0m\n\u001b[0m\u001b[1;32m      3\u001b[0m     \u001b[0mret\u001b[0m\u001b[0;34m,\u001b[0m\u001b[0mthresh\u001b[0m \u001b[0;34m=\u001b[0m \u001b[0mcv2\u001b[0m\u001b[0;34m.\u001b[0m\u001b[0mthreshold\u001b[0m\u001b[0;34m(\u001b[0m\u001b[0mimagemCinza\u001b[0m\u001b[0;34m,\u001b[0m\u001b[0;36m10\u001b[0m\u001b[0;34m,\u001b[0m\u001b[0;36m1\u001b[0m\u001b[0;34m,\u001b[0m\u001b[0mcv2\u001b[0m\u001b[0;34m.\u001b[0m\u001b[0mTHRESH_BINARY\u001b[0m\u001b[0;34m)\u001b[0m\u001b[0;34m\u001b[0m\u001b[0;34m\u001b[0m\u001b[0m\n",
      "\u001b[0;31mNameError\u001b[0m: name 'cv2' is not defined",
      "\nDuring handling of the above exception, another exception occurred:\n",
      "\u001b[0;31mNameError\u001b[0m                                 Traceback (most recent call last)",
      "\u001b[0;32m<ipython-input-3-35658518f914>\u001b[0m in \u001b[0;36m<module>\u001b[0;34m\u001b[0m\n\u001b[1;32m      9\u001b[0m \u001b[0;34m\u001b[0m\u001b[0m\n\u001b[1;32m     10\u001b[0m \u001b[0;32mexcept\u001b[0m\u001b[0;34m:\u001b[0m\u001b[0;34m\u001b[0m\u001b[0;34m\u001b[0m\u001b[0m\n\u001b[0;32m---> 11\u001b[0;31m     \u001b[0mprint\u001b[0m\u001b[0;34m(\u001b[0m\u001b[0;34m\"magMasks: Erro nas etapas de limpeza e de definição do disco solar e dos anéis\"\u001b[0m \u001b[0;34m+\u001b[0m \u001b[0mpathImagemMag\u001b[0m\u001b[0;34m)\u001b[0m\u001b[0;34m\u001b[0m\u001b[0;34m\u001b[0m\u001b[0m\n\u001b[0m",
      "\u001b[0;31mNameError\u001b[0m: name 'pathImagemMag' is not defined"
     ]
    }
   ],
   "source": [
    "try:    \n",
    "    imagemCinza = cv2.cvtColor(imagemDaVez, cv2.COLOR_BGR2GRAY)\n",
    "    ret,thresh = cv2.threshold(imagemCinza,10,1,cv2.THRESH_BINARY)\n",
    "\n",
    "    '''MU_RINGS ESTÁ VINDO SEM NAN, DIFERENTE DO QUE ACONTECE NO MATLAB, O QUE ESTÁ DESTOANDO OS VALORES CALCULADOS PARA O BW_MASK, EM RELAÇÃO AOS CALCULADOS NO MATLAB'''\n",
    "    mu, mu_rings = calc_mu_hmi(thresh)\n",
    "\n",
    "    area_disk = np.count_nonzero(mu>0)\n",
    "\n",
    "except:\n",
    "    print(\"magMasks: Erro nas etapas de limpeza e de definição do disco solar e dos anéis\" + pathImagemMag)  "
   ]
  },
  {
   "cell_type": "code",
   "execution_count": null,
   "metadata": {},
   "outputs": [],
   "source": [
    "try:\n",
    "    bw1 = imagemCinza>=(128+20)\n",
    "    bw2 = imagemCinza<=(128-20)\n",
    "    bw3 = bw1 | bw2\n",
    "    bw4 = np.uint8(bw3 & (mu_rings > 0))\n",
    "\n",
    "    nb_components, output, stats, centroids = cv2.connectedComponentsWithStats(bw4, connectivity=4)\n",
    "    sizes = stats[1:, -1]\n",
    "    nb_components = nb_components - 1\n",
    "    min_size = 10 \n",
    "    bw5 = np.zeros((output.shape))\n",
    "\n",
    "    for i in range(0, nb_components):\n",
    "        if sizes[i] >= min_size:\n",
    "            bw5[output == i + 1] = 1\n",
    "\n",
    "    labels = label(bw5, connectivity=1)\n",
    "\n",
    "    props = regionprops(labels)\n",
    "\n",
    "    area = []\n",
    "\n",
    "    for region in props:\n",
    "        area.append(1e6*region.area/area_disk)\n",
    "    #area_total.append(area) #apenas uma verificação das áreas totais calculadas\n",
    "\n",
    "    '''VERIFICAR SE NA LINHA ABAIXO DEVE REALMENTE SER EXCLUÍDA A PRIMEIRA ÁREA (VALOR MÁXIMO), CUJO VALOR NÃO CONDIZ COM OS RESULTADOS EM MATLAB'''\n",
    "    area = np.asarray(area[1:])\n",
    "    props = props[1:]\n",
    "except:\n",
    "    print(\"magMasks: Erro na etapa de pré classificação da imagem \" + pathImagemMag)  "
   ]
  },
  {
   "cell_type": "code",
   "execution_count": null,
   "metadata": {},
   "outputs": [],
   "source": [
    "try:  \n",
    "    '''ESSES VALORES DE THRESHOLDS DEVEM FICAR EM UM ARQUIVO MESMO?? COMO SÃO ESTIMADOS???'''\n",
    "    th1_m = float(16.6883)\n",
    "    th2_m = float(24.8066)\n",
    "    th3_m = float(89.0673)\n",
    "\n",
    "    bw_small = np.zeros(bw5.shape)\n",
    "    ii = np.where(area <= th1_m)\n",
    "    ii = np.array(ii)[0]\n",
    "    flag_small = 0        \n",
    "    if ii.size > 0:\n",
    "        flag_small = 1\n",
    "        for i in range (ii.size):\n",
    "            x = props[ii[i]]['coords'][:,0]\n",
    "            y = props[ii[i]]['coords'][:,1]\n",
    "            bw_small[x,y] = 1 \n",
    "\n",
    "    bw_media1 = np.zeros(bw5.shape)            \n",
    "    ii = np.where((area > th1_m) & (area <= th2_m))\n",
    "    ii = np.array(ii)[0]\n",
    "    flag_media1 = 0        \n",
    "    if ii.size > 0:\n",
    "        flag_media1 = 1\n",
    "        for i in range (ii.size):\n",
    "            x = props[ii[i]]['coords'][:,0]\n",
    "            y = props[ii[i]]['coords'][:,1]\n",
    "            bw_media1[x,y] = 1 \n",
    "\n",
    "    bw_media2 = np.zeros(bw5.shape)            \n",
    "    ii = np.where((area > th2_m) & (area <= th3_m))\n",
    "    ii = np.array(ii)[0]\n",
    "    flag_media2 = 0        \n",
    "    if ii.size > 0:\n",
    "        flag_media2 = 1\n",
    "        for i in range (ii.size):\n",
    "            x = props[ii[i]]['coords'][:,0]\n",
    "            y = props[ii[i]]['coords'][:,1]\n",
    "            bw_media2[x,y] = 1 \n",
    "\n",
    "    bw_large = np.zeros(bw5.shape)            \n",
    "    ii = np.where(area > th3_m)\n",
    "    ii = np.array(ii)[0]\n",
    "    flag_large = 0        \n",
    "    if ii.size > 0:\n",
    "        flag_large = 1\n",
    "        for i in range (ii.size):\n",
    "            x = props[ii[i]]['coords'][:,0]\n",
    "            y = props[ii[i]]['coords'][:,1]\n",
    "            bw_large[x,y] = 1 \n",
    "\n",
    "\n",
    "\n",
    "    bw_mask[np.where(mu_rings > 0)] = 1               \n",
    "\n",
    "    if flag_small:\n",
    "        bw_mask[np.where(bw_small==1)] = 2\n",
    "    if flag_media1:\n",
    "        bw_mask[np.where(bw_media1==1)] = 3\n",
    "    if flag_media2:\n",
    "        bw_mask[np.where(bw_media2==1)] = 4\n",
    "    if flag_large:\n",
    "        bw_mask[np.where(bw_large==1)] = 5\n",
    "\n",
    "except:\n",
    "    print(\"magMasks: Erro no processo de classificação da imagem \" + pathImagemMag)"
   ]
  }
 ],
 "metadata": {
  "kernelspec": {
   "display_name": "Python 3",
   "language": "python",
   "name": "python3"
  },
  "language_info": {
   "codemirror_mode": {
    "name": "ipython",
    "version": 3
   },
   "file_extension": ".py",
   "mimetype": "text/x-python",
   "name": "python",
   "nbconvert_exporter": "python",
   "pygments_lexer": "ipython3",
   "version": "3.7.3"
  }
 },
 "nbformat": 4,
 "nbformat_minor": 2
}
