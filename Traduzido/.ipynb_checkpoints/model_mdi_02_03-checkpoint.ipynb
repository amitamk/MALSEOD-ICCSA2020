{
 "cells": [
  {
   "cell_type": "code",
   "execution_count": null,
   "metadata": {},
   "outputs": [],
   "source": [
    "def model_mdi_02_03(path, dataInicial, dataFinal):"
   ]
  },
  {
   "cell_type": "code",
   "execution_count": null,
   "metadata": {},
   "outputs": [],
   "source": [
    "dataInicial = datetime.strptime(dataInicial,'%d/%m/%Y %H:%M:%S')\n",
    "dataFinal = datetime.strptime(dataFinal,'%d/%m/%Y %H:%M:%S')\n",
    "\n",
    "lver = 2\n",
    "lsubver = 3\n",
    "ierror = 0\n",
    "\n",
    "time, area_c, alpha_mu_spot = check_areas(path)\n",
    "\n",
    "time_tim, tsi_tim, tsi_tim_sig = read_tim_tsi(path)\n",
    "\n",
    "dt = 1/4\n",
    "\n",
    "tHours = dataInicial.hour/24\n",
    "tMinutes = dataInicial.minute/(24*60)\n",
    "tSeconds = dataInicial.second/(24*60*60)\n",
    "dI = dataInicial.toordinal()+366+tHours+tMinutes+tSeconds\n",
    "\n",
    "tHours = dataFinal.hour/24\n",
    "tMinutes = dataFinal.minute/(24*60)\n",
    "tSeconds = dataFinal.second/(24*60*60)\n",
    "dF = dataFinal.toordinal()+366+tHours+tMinutes+tSeconds\n",
    "\n",
    "#dI = date.toordinal(dataInicial)+366\n",
    "#dF = date.toordinal(dataFinal)+366+1/4\n",
    "period = np.arange(dI,dF,dt)\n",
    "\n",
    "t = []\n",
    "tsi_tim_t = []\n",
    "alpha = np.zeros((11,6,len(period)))"
   ]
  },
  {
   "cell_type": "code",
   "execution_count": null,
   "metadata": {},
   "outputs": [],
   "source": [
    "for j in range(len(period)):\n",
    "    t1 = period[j]\n",
    "\n",
    "    jj = np.where((time >= (t1-dt/2)) & (time < (t1+dt/2))) \n",
    "\n",
    "    for i in range(11):\n",
    "        for k in range(6):\n",
    "            temp = alpha_mu_spot[jj,k,i] #VERIFICAR SE OS ÍNDICES BATEM COM A ORDEM GRAVADA NO CHECK_AREAS()\n",
    "            kk = np.where(np.isfinite(temp))\n",
    "            alpha[i,k,j] = np.mean(temp[kk])\n",
    "\n",
    "    jj = np.where((time_tim >= (t1 - dt/2)) & (time_tim < (t1 + dt/2)))\n",
    "\n",
    "    if (np.squeeze(jj)).size > 0:\n",
    "        tsi_tim_t.append(tsi_tim[jj])\n",
    "    else:\n",
    "        tsi_tim_t.append(np.nan)\n",
    "\n",
    "    t.append(t1)\n",
    "\n",
    "t = np.array(t)\n",
    "tsi_tim_t = np.array(tsi_tim_t)"
   ]
  },
  {
   "cell_type": "code",
   "execution_count": null,
   "metadata": {},
   "outputs": [],
   "source": [
    "for i in range(11):\n",
    "    for k in range(6):\n",
    "        alpha[i,k,0] = alpha[i,k,1]\n",
    "\n",
    "for i in range(11):\n",
    "    for k in range(6):\n",
    "        alpha[i,k,:] = le_interp(t, np.squeeze(alpha[i,k,:]))\n",
    "\n",
    "'''???'''\n",
    "F_f = np.squeeze(alpha[:,3,:] - alpha[:,4,:] - alpha[:,5,:])\n",
    "\n",
    "'''QUE DATA É ESSA??? '''\n",
    "kk = np.array(np.where((t > date.toordinal(datetime(2019,1,2))) & np.isfinite(F_f[0,:])))\n",
    "kk = np.squeeze(kk)\n",
    "ds = 1\n",
    "\n",
    "time0 = t[kk[ds:]]\n",
    "T = tsi_tim_t[kk[ds:]]\n",
    "\n",
    "P = np.array([np.squeeze(alpha[:10,2,kk[:len(kk)-(ds)]]), \n",
    "              np.squeeze(alpha[:10,3,kk[:len(kk)-(ds)]]), \n",
    "              np.squeeze(alpha[:10,4,kk[:len(kk)-(ds)]]),\n",
    "              np.squeeze(alpha[:10,5,kk[:len(kk)-(ds)]])])\n",
    "\n",
    "P = P.reshape(P.shape[0]*P.shape[1],len(period)-1)\n",
    "T = T.transpose()\n",
    "\n",
    "nans = np.isnan(T)\n",
    "x = lambda z: z.nonzero()[0]\n",
    "T[nans] = np.interp(x(nans), x(~nans), T[~nans])\n",
    "rnn(P,T)"
   ]
  }
 ],
 "metadata": {
  "kernelspec": {
   "display_name": "Python 3",
   "language": "python",
   "name": "python3"
  },
  "language_info": {
   "codemirror_mode": {
    "name": "ipython",
    "version": 3
   },
   "file_extension": ".py",
   "mimetype": "text/x-python",
   "name": "python",
   "nbconvert_exporter": "python",
   "pygments_lexer": "ipython3",
   "version": "3.7.4"
  }
 },
 "nbformat": 4,
 "nbformat_minor": 2
}
