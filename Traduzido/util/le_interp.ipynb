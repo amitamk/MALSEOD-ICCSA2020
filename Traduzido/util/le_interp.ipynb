{
 "cells": [
  {
   "cell_type": "markdown",
   "metadata": {},
   "source": [
    "le_interp(t,x):\n",
    "<h3>Parameter used in le_interp:</h3>\n",
    "<ul>\n",
    "    <li>t: </li>\n",
    "    <li>x: </li>        \n",
    "</ul>"
   ]
  },
  {
   "cell_type": "code",
   "execution_count": null,
   "metadata": {},
   "outputs": [],
   "source": [
    "y = x;\n",
    "\n",
    "ii = np.squeeze(np.where(~np.isnan(x)))\n",
    "ii1 = np.squeeze(np.where(np.isnan(x)))\n",
    "\n",
    "y[ii1] = interp1d(t[ii],x[ii], fill_value = 'extrapolate')(t[ii1])\n",
    "\n",
    "return y"
   ]
  }
 ],
 "metadata": {
  "kernelspec": {
   "display_name": "Python 3",
   "language": "python",
   "name": "python3"
  },
  "language_info": {
   "codemirror_mode": {
    "name": "ipython",
    "version": 3
   },
   "file_extension": ".py",
   "mimetype": "text/x-python",
   "name": "python",
   "nbconvert_exporter": "python",
   "pygments_lexer": "ipython3",
   "version": "3.7.3"
  }
 },
 "nbformat": 4,
 "nbformat_minor": 2
}
