{
 "cells": [
  {
   "cell_type": "markdown",
   "metadata": {},
   "source": [
    "<h1><center>Function calc_mu_hmi.py</center>\n",
    "    \n",
    "<h3>Parameters used in calc_mu_hmi:</h3>\n",
    "<ul>\n",
    "\t<li>thresh: the image converted to gray scale</li>\n",
    "</ul>"
   ]
  },
  {
   "cell_type": "code",
   "execution_count": 1,
   "metadata": {},
   "outputs": [
    {
     "name": "stderr",
     "output_type": "stream",
     "text": [
      "Using TensorFlow backend.\n"
     ]
    }
   ],
   "source": [
    "from library import *"
   ]
  },
  {
   "cell_type": "code",
   "execution_count": null,
   "metadata": {},
   "outputs": [],
   "source": [
    "try:    \n",
    "    connectivity=8\n",
    "    nb_components, output, stats, centroids = cv2.connectedComponentsWithStats(thresh, connectivity)\n",
    "    sizes = stats[1:, -1]\n",
    "    nb_components = nb_components - 1\n",
    "    min_size = 100000 \n",
    "    imagemEmComponentes = np.zeros((output.shape))\n",
    "    for i in range(0, nb_components):\n",
    "        if sizes[i] >= min_size:\n",
    "            imagemEmComponentes[output == i + 1] = 1\n",
    "\n",
    "    labels = label(imagemEmComponentes)\n",
    "\n",
    "    props = regionprops(labels)\n",
    "\n",
    "    center_x = props[0]['Centroid'][0]\n",
    "    center_y = props[0]['Centroid'][1]\n",
    "\n",
    "    EquivDiameter = props[0]['EquivDiameter']\n",
    "\n",
    "    mradius = EquivDiameter/2 \n",
    "\n",
    "    #jx, jy = np.meshgrid(range(1,output.shape[0]+1), range(1,output.shape[1]+1)) #original\n",
    "    jx, jy = np.meshgrid(range(output.shape[0]), range(output.shape[1]))\n",
    "\n",
    "    jr = np.sqrt(np.power(jx-center_x,2) + np.power(jy-center_y,2))\n",
    "\n",
    "\n",
    "    a = 1-np.power(jr/mradius,2)\n",
    "    a = a.astype('complex')\n",
    "\n",
    "    #mu = np.real(np.sqrt(a))\n",
    "\n",
    "    mu = octave.real(octave.sqrt(a))\n",
    "\n",
    "    ii0 = np.array([1.0, 0.9, 0.8, 0.7, 0.6, 0.5, 0.4, 0.3, 0.2, 0.1, 0.05])\n",
    "    ii1 = np.linspace(1,len(ii0),len(ii0)) #original\n",
    "    #ii1 = range(1,12)\n",
    "\n",
    "    ''' As linhas de 86 a 94 são a opção no caso de não utilizar o interpolador interp1.m\n",
    "    mu_rings = np.empty_like(mu)\n",
    "    mu_rings[:] = np.nan\n",
    "\n",
    "    limites = [1, 0.95, 0.85, 0.75, 0.65, 0.55, 0.45, 0.35, 0.25, 0.15, 0.075]\n",
    "\n",
    "    for i in range(len(limites)-1):\n",
    "        mu_rings[np.where((mu>limites[i+1]) & (mu<=limites[i]))] = ii1[i]\n",
    "\n",
    "    mu_rings[np.where((mu>=0) & (mu<limites[10]))] = ii1[10]\n",
    "\n",
    "    '''\n",
    "\n",
    "    mu_rings = octave.interp1(ii0, ii1, mu, 'nearest')\n",
    "\n",
    "    #mu_rings = interp1d(ii0, ii1, kind = 'nearest', fill_value = 'extrapolate')(mu)\n",
    "\n",
    "    return mu, mu_rings\n",
    "\n",
    "except:\n",
    "    print('Erro na função calc_mu_rings')\n",
    "    return (None, None)\n"
   ]
  }
 ],
 "metadata": {
  "kernelspec": {
   "display_name": "Python 3",
   "language": "python",
   "name": "python3"
  },
  "language_info": {
   "codemirror_mode": {
    "name": "ipython",
    "version": 3
   },
   "file_extension": ".py",
   "mimetype": "text/x-python",
   "name": "python",
   "nbconvert_exporter": "python",
   "pygments_lexer": "ipython3",
   "version": "3.7.3"
  }
 },
 "nbformat": 4,
 "nbformat_minor": 2
}
