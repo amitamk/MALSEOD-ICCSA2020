{
 "cells": [
  {
   "cell_type": "markdown",
   "metadata": {},
   "source": [
    "read_tim_tsi(path):"
   ]
  },
  {
   "cell_type": "code",
   "execution_count": null,
   "metadata": {},
   "outputs": [],
   "source": [
    "#path='C:\\\\Users\\Ami\\Dropbox\\Tese\\Traduzido\\\\'\n",
    "tsiFile = 'sorce_tsi_L3_c06h_latest.txt'\n",
    "\n",
    "#url = 'http://lasp.colorado.edu/data/sorce/tsi_data/six_hourly/' + tsiFile\n",
    "\n",
    "filePath = path+tsiFile\n",
    "\n",
    "#uploadedFile = request.urlopen(url)\n",
    "\n",
    "#f = open(filePath, 'wb')\n",
    "\n",
    "#f.write(uploadedFile.read())\n",
    "#f.close()\n",
    "\n",
    "\n",
    "\n",
    "with open(filePath,'r') as f: \n",
    "    #read only data, ignore headers \n",
    "    lines = f.readlines()[134:] \n",
    "    # create the arrays \n",
    "    data = ''\n",
    "    time_tim = np.zeros(len(lines))\n",
    "\n",
    "    #nominal_date_jdn = np.zeros(len(lines))\n",
    "    #avg_measurement_date_jdn = np.zeros(len(lines))\n",
    "    #std_dev_measurement_date = np.zeros(len(lines))\n",
    "    tsi_tim = np.zeros(len(lines))\n",
    "    #temp1 = np.zeros(len(lines))\n",
    "    #temp2 = np.zeros(len(lines))\n",
    "    #temp3 = np.zeros(len(lines))\n",
    "    tsi_tim_sig = np.zeros(len(lines))\n",
    "\n",
    "    # convert strings to floats and put into arrays \n",
    "    for i in range(len(lines)):\n",
    "        data, data2, data3, data3, tsi_tim[i], data4, data5, data6, tsi_tim_sig[i], seinao, seinao, seinao, seinao, seinao, seinao= lines[i].split()\n",
    "\n",
    "        yyyy = int(data[0:4])\n",
    "        mm = int(data[4:6])\n",
    "        dd = float(data[6:])\n",
    "        hh = dd - int(dd)\n",
    "        dd = int(dd)\n",
    "        time_tim[i] = date.toordinal(datetime(yyyy,mm,dd))+366+hh\n",
    "\n",
    "        tsi_tim[i] = float(tsi_tim[i])\n",
    "        tsi_tim_sig[i] = float(tsi_tim_sig[i])\n",
    "\n",
    "tsi_tim[np.where(tsi_tim == 0)] = np.nan\n",
    "tsi_tim_sig[np.where(tsi_tim_sig == 0)] = np.nan\n",
    "#measurement_uncertainty_1au(measurement_uncertainty_1au==0)=nan;\n",
    "\n",
    "n1 = len(time_tim)\n",
    "n2 = len(tsi_tim)\n",
    "\n",
    "if np.not_equal(n1,n2):\n",
    "    n = min(n1,n2)\n",
    "    tsi_tim = tsi_tim[:n]\n",
    "    time_tim = time_tim[:n]\n",
    "    tsi_tim_sig = tsi_tim_sig[:n]\n",
    "\n",
    "return time_tim, tsi_tim, tsi_tim_sig\n"
   ]
  }
 ],
 "metadata": {
  "kernelspec": {
   "display_name": "Python 3",
   "language": "python",
   "name": "python3"
  },
  "language_info": {
   "codemirror_mode": {
    "name": "ipython",
    "version": 3
   },
   "file_extension": ".py",
   "mimetype": "text/x-python",
   "name": "python",
   "nbconvert_exporter": "python",
   "pygments_lexer": "ipython3",
   "version": "3.7.3"
  }
 },
 "nbformat": 4,
 "nbformat_minor": 2
}
