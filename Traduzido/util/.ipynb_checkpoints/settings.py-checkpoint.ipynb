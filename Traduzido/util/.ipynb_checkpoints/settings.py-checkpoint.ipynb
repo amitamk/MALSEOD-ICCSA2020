{
 "cells": [
  {
   "cell_type": "markdown",
   "metadata": {},
   "source": [
    "<h1><center>Function settings.py</center>\n",
    "<h3> Concentrate the initial settings needed for the other functions to execute."
   ]
  },
  {
   "cell_type": "code",
   "execution_count": 1,
   "metadata": {},
   "outputs": [
    {
     "name": "stderr",
     "output_type": "stream",
     "text": [
      "Using TensorFlow backend.\n"
     ]
    }
   ],
   "source": [
    "from library import *"
   ]
  },
  {
   "cell_type": "code",
   "execution_count": 2,
   "metadata": {},
   "outputs": [],
   "source": [
    "path = 'D:\\\\Amita\\\\Doutorado\\\\Tese\\\\Traduzido\\\\'\n",
    "\n",
    "dataInicial = '07/03/2012 00:00:00'\n",
    "dataFinal = '09/03/2012 23:30:00'\n",
    "\n",
    "resolucao = 30\n",
    "\n",
    "url = \"http://jsoc.stanford.edu/data/hmi/images\"\n",
    "\n",
    "sufixoContinua = '_Ic_flat_1k.jpg'\n",
    "sufixoMag = '_M_1k.jpg'\n",
    "\n",
    "pathMag = path + 'mag'\n",
    "pathContinua = path + 'continuum'    "
   ]
  },
  {
   "cell_type": "code",
   "execution_count": null,
   "metadata": {},
   "outputs": [],
   "source": []
  }
 ],
 "metadata": {
  "kernelspec": {
   "display_name": "Python 3",
   "language": "python",
   "name": "python3"
  },
  "language_info": {
   "codemirror_mode": {
    "name": "ipython",
    "version": 3
   },
   "file_extension": ".py",
   "mimetype": "text/x-python",
   "name": "python",
   "nbconvert_exporter": "python",
   "pygments_lexer": "ipython3",
   "version": "3.7.3"
  }
 },
 "nbformat": 4,
 "nbformat_minor": 2
}
