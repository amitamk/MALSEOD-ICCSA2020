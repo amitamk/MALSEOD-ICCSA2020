{
 "cells": [
  {
   "cell_type": "markdown",
   "metadata": {},
   "source": [
    "<h1><center>Function continuumMasks.py</center>\n",
    "    <h3>This function process the continuum images, clear it and calculate the total value os pixels of each disturbed regions that can be active regions, found in magnetograms, or sun spots, found on continuum images.\n",
    "\n",
    "<h3>Parameters used in continuumMasks:</h3>\n",
    "<ul>\n",
    "\t<li>pathImagemContinua: the computer path where the Continuum image will be loaded from</li>\n",
    "    <li>bw_mask: the matrix of ?????????????????????????</li>\n",
    "</ul>"
   ]
  },
  {
   "cell_type": "code",
   "execution_count": 1,
   "metadata": {},
   "outputs": [
    {
     "ename": "ModuleNotFoundError",
     "evalue": "No module named 'cv2'",
     "output_type": "error",
     "traceback": [
      "\u001b[0;31m---------------------------------------------------------------------------\u001b[0m",
      "\u001b[0;31mModuleNotFoundError\u001b[0m                       Traceback (most recent call last)",
      "\u001b[0;32m<ipython-input-1-15632afd5d0d>\u001b[0m in \u001b[0;36m<module>\u001b[0;34m\u001b[0m\n\u001b[0;32m----> 1\u001b[0;31m \u001b[0;32mimport\u001b[0m \u001b[0mcv2\u001b[0m\u001b[0;34m\u001b[0m\u001b[0;34m\u001b[0m\u001b[0m\n\u001b[0m\u001b[1;32m      2\u001b[0m \u001b[0;34m\u001b[0m\u001b[0m\n\u001b[1;32m      3\u001b[0m \u001b[0;32mfrom\u001b[0m \u001b[0mscipy\u001b[0m\u001b[0;34m.\u001b[0m\u001b[0minterpolate\u001b[0m \u001b[0;32mimport\u001b[0m \u001b[0minterp1d\u001b[0m\u001b[0;34m\u001b[0m\u001b[0;34m\u001b[0m\u001b[0m\n\u001b[1;32m      4\u001b[0m \u001b[0;32mfrom\u001b[0m \u001b[0mscipy\u001b[0m\u001b[0;34m.\u001b[0m\u001b[0mndimage\u001b[0m \u001b[0;32mimport\u001b[0m \u001b[0mconvolve\u001b[0m\u001b[0;34m\u001b[0m\u001b[0;34m\u001b[0m\u001b[0m\n\u001b[1;32m      5\u001b[0m \u001b[0;34m\u001b[0m\u001b[0m\n",
      "\u001b[0;31mModuleNotFoundError\u001b[0m: No module named 'cv2'"
     ]
    }
   ],
   "source": [
    "import cv2\n",
    "\n",
    "from scipy.interpolate import interp1d\n",
    "from scipy.ndimage import convolve\n",
    "\n",
    "from skimage.measure import label, regionprops\n",
    "from skimage.segmentation import clear_border\n",
    "\n",
    "from sklearn.metrics import mean_squared_error\n",
    "from sklearn.model_selection import train_test_split\n",
    "from sklearn.preprocessing import MinMaxScaler, StandardScaler\n",
    "\n",
    "from urllib import request"
   ]
  },
  {
   "cell_type": "code",
   "execution_count": 2,
   "metadata": {},
   "outputs": [
    {
     "ename": "NameError",
     "evalue": "name 'pathImagemContinua' is not defined",
     "output_type": "error",
     "traceback": [
      "\u001b[0;31m---------------------------------------------------------------------------\u001b[0m",
      "\u001b[0;31mNameError\u001b[0m                                 Traceback (most recent call last)",
      "\u001b[0;32m<ipython-input-2-42a17a0d464a>\u001b[0m in \u001b[0;36m<module>\u001b[0;34m\u001b[0m\n\u001b[1;32m      1\u001b[0m \u001b[0;32mtry\u001b[0m\u001b[0;34m:\u001b[0m\u001b[0;34m\u001b[0m\u001b[0;34m\u001b[0m\u001b[0m\n\u001b[0;32m----> 2\u001b[0;31m     \u001b[0mimagemDaVez\u001b[0m \u001b[0;34m=\u001b[0m \u001b[0mcv2\u001b[0m\u001b[0;34m.\u001b[0m\u001b[0mimread\u001b[0m\u001b[0;34m(\u001b[0m\u001b[0mpathImagemContinua\u001b[0m\u001b[0;34m)\u001b[0m\u001b[0;34m\u001b[0m\u001b[0;34m\u001b[0m\u001b[0m\n\u001b[0m\u001b[1;32m      3\u001b[0m \u001b[0;32mexcept\u001b[0m\u001b[0;34m:\u001b[0m\u001b[0;34m\u001b[0m\u001b[0;34m\u001b[0m\u001b[0m\n",
      "\u001b[0;31mNameError\u001b[0m: name 'cv2' is not defined",
      "\nDuring handling of the above exception, another exception occurred:\n",
      "\u001b[0;31mNameError\u001b[0m                                 Traceback (most recent call last)",
      "\u001b[0;32m<ipython-input-2-42a17a0d464a>\u001b[0m in \u001b[0;36m<module>\u001b[0;34m\u001b[0m\n\u001b[1;32m      2\u001b[0m     \u001b[0mimagemDaVez\u001b[0m \u001b[0;34m=\u001b[0m \u001b[0mcv2\u001b[0m\u001b[0;34m.\u001b[0m\u001b[0mimread\u001b[0m\u001b[0;34m(\u001b[0m\u001b[0mpathImagemContinua\u001b[0m\u001b[0;34m)\u001b[0m\u001b[0;34m\u001b[0m\u001b[0;34m\u001b[0m\u001b[0m\n\u001b[1;32m      3\u001b[0m \u001b[0;32mexcept\u001b[0m\u001b[0;34m:\u001b[0m\u001b[0;34m\u001b[0m\u001b[0;34m\u001b[0m\u001b[0m\n\u001b[0;32m----> 4\u001b[0;31m     \u001b[0mprint\u001b[0m\u001b[0;34m(\u001b[0m\u001b[0;34m\"continuumMasks: Imagem \"\u001b[0m \u001b[0;34m+\u001b[0m \u001b[0mpathImagemContinua\u001b[0m \u001b[0;34m+\u001b[0m \u001b[0;34m\"não encontrada!\"\u001b[0m\u001b[0;34m)\u001b[0m\u001b[0;34m\u001b[0m\u001b[0;34m\u001b[0m\u001b[0m\n\u001b[0m",
      "\u001b[0;31mNameError\u001b[0m: name 'pathImagemContinua' is not defined"
     ]
    }
   ],
   "source": [
    "try:\n",
    "    imagemDaVez = cv2.imread(pathImagemContinua)\n",
    "except:\n",
    "    print(\"continuumMasks: Imagem \" + pathImagemContinua + \"não encontrada!\")"
   ]
  },
  {
   "cell_type": "code",
   "execution_count": null,
   "metadata": {},
   "outputs": [],
   "source": [
    "try:    \n",
    "    imagemCinza = cv2.cvtColor(imagemDaVez, cv2.COLOR_BGR2GRAY)\n",
    "    \n",
    "    mu_rings = np.zeros_like(imagemCinza)\n",
    "    mu_rings[np.where(imagemCinza>10)]=1\n",
    "\n",
    "    ii = np.where(mu_rings>0)\n",
    "\n",
    "    xMedian = np.nanmedian(imagemCinza[ii])\n",
    "    xStd = np.nanstd(imagemCinza[ii])\n",
    "\n",
    "    h = np.ones((5,5))/25\n",
    "    I2 = convolve(imagemCinza,h)\n",
    "\n",
    "    x2 = (I2 - xMedian)/xStd\n",
    "\n",
    "    th = -4\n",
    "    bw = np.zeros_like(x2)\n",
    "    bw[np.where(x2<=th)] = 1\n",
    "\n",
    "    bw1 = clear_border(bw).astype(int)\n",
    "    #bw1 = bw.astype(int)\n",
    "\n",
    "    th = -15\n",
    "    bw = np.zeros_like(x2)\n",
    "    bw[np.where(x2<=th)] = 1\n",
    "\n",
    "    '''NO MATLAB, PARA A IMAGEM DE 25/09/2019, 00:00:00 (20190925_000000_Ic_flat_1k.jpg), \n",
    "    NÃO \"SOBRA\" NENHUM TRUE APÓS O IMCLEARBORDER. JÁ NO PYTHON, \"SOBRA\" 1024 TRUES APÓS O CLEAR_BORDER.'''\n",
    "    bw2 = clear_border(bw).astype(int) \n",
    "    #bw2 = bw.astype(int)\n",
    "\n",
    "    bw_mask[bw1] = 6\n",
    "    bw_mask[bw2] = 7\n",
    "\n",
    "    return bw_mask\n",
    "\n",
    "except:\n",
    "    print(\"continuumMasks: Erro na identificação e classificação de umbras e penumbras na imagem contínua \" + pathImagemContinua) "
   ]
  }
 ],
 "metadata": {
  "kernelspec": {
   "display_name": "Python 3",
   "language": "python",
   "name": "python3"
  },
  "language_info": {
   "codemirror_mode": {
    "name": "ipython",
    "version": 3
   },
   "file_extension": ".py",
   "mimetype": "text/x-python",
   "name": "python",
   "nbconvert_exporter": "python",
   "pygments_lexer": "ipython3",
   "version": "3.7.3"
  }
 },
 "nbformat": 4,
 "nbformat_minor": 2
}
