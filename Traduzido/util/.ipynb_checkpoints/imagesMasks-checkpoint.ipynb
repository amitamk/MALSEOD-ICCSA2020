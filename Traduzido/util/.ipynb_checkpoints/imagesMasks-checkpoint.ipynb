{
 "cells": [
  {
   "cell_type": "markdown",
   "metadata": {},
   "source": [
    "<h1><center>Function imagesMasks.py</center>\n",
    "    <h3>This function process different types of images from a specified path and calculate the total value os pixels of each disturbed regions that can be active regions, found in magnetograms, or sun spots, found on continuum images.\n",
    "\n",
    "<h3>Parameters used in imagesMasks:</h3>\n",
    "<ul>\n",
    "\t<li>path: the computer path where the data will be saved and readed afterwards</li>\n",
    "    <li>dataInicial: the initial date which has been defined for the time serie first data formatted as 'dd/mm/yyyy hh:mm:ss'</li>\n",
    "    <li>dataFinal: the final date which has been defined for the time serie last data formatted as 'dd/mm/yyyy hh:mm:ss'</li>\n",
    "    <li>resolucao: the interval wanted between each observation (in minutes)</li>\n",
    "    <li>sufixoContinua: the set of letters, digits or/and symbols used for the continuum image files sufix</li>\n",
    "    <li>sufixoMag: the set of letters, digits or/and symbols used for the magnetogram files sufix</li>\n",
    "</ul>\n",
    "    \n",
    "<h3>Functions used in imageMasks:</h3>\n",
    "<ul>\n",
    "    <li>magMasks(pathImagemMag,bw_mask)</li>\n",
    "    <li>continuumMasks(pathImagemContinua,bw_mask)</li>\n",
    "</ul>"
   ]
  },
  {
   "cell_type": "markdown",
   "metadata": {},
   "source": [
    "#### 1) Importing a file with all the library needed on the code:"
   ]
  },
  {
   "cell_type": "code",
   "execution_count": 1,
   "metadata": {},
   "outputs": [
    {
     "name": "stderr",
     "output_type": "stream",
     "text": [
      "Using TensorFlow backend.\n"
     ]
    }
   ],
   "source": [
    "from funcoes import *"
   ]
  },
  {
   "cell_type": "markdown",
   "metadata": {},
   "source": [
    "#### 2) Importing the defined values in settings.py. They are url, path, dataInicial, dataFinal, resolucao and sufixo."
   ]
  },
  {
   "cell_type": "code",
   "execution_count": 2,
   "metadata": {},
   "outputs": [],
   "source": [
    "import settings"
   ]
  },
  {
   "cell_type": "code",
   "execution_count": null,
   "metadata": {},
   "outputs": [],
   "source": []
  },
  {
   "cell_type": "code",
   "execution_count": null,
   "metadata": {},
   "outputs": [],
   "source": [
    "sufixoContinua = '_Ic_flat_1k.jpg'\n",
    "sufixoMag = '_M_1k.jpg'"
   ]
  },
  {
   "cell_type": "code",
   "execution_count": 4,
   "metadata": {},
   "outputs": [
    {
     "ename": "NameError",
     "evalue": "name 'datetime' is not defined",
     "output_type": "error",
     "traceback": [
      "\u001b[0;31m---------------------------------------------------------------------------\u001b[0m",
      "\u001b[0;31mNameError\u001b[0m                                 Traceback (most recent call last)",
      "\u001b[0;32m<ipython-input-4-090eabe1f42d>\u001b[0m in \u001b[0;36m<module>\u001b[0;34m\u001b[0m\n\u001b[0;32m----> 1\u001b[0;31m \u001b[0mdataInicial\u001b[0m \u001b[0;34m=\u001b[0m \u001b[0mdatetime\u001b[0m\u001b[0;34m.\u001b[0m\u001b[0mstrptime\u001b[0m\u001b[0;34m(\u001b[0m\u001b[0mdataInicial\u001b[0m\u001b[0;34m,\u001b[0m\u001b[0;34m'%d/%m/%Y %H:%M:%S'\u001b[0m\u001b[0;34m)\u001b[0m\u001b[0;34m\u001b[0m\u001b[0;34m\u001b[0m\u001b[0m\n\u001b[0m\u001b[1;32m      2\u001b[0m \u001b[0mdataFinal\u001b[0m \u001b[0;34m=\u001b[0m \u001b[0mdatetime\u001b[0m\u001b[0;34m.\u001b[0m\u001b[0mstrptime\u001b[0m\u001b[0;34m(\u001b[0m\u001b[0mdataFinal\u001b[0m\u001b[0;34m,\u001b[0m\u001b[0;34m'%d/%m/%Y %H:%M:%S'\u001b[0m\u001b[0;34m)\u001b[0m\u001b[0;34m\u001b[0m\u001b[0;34m\u001b[0m\u001b[0m\n\u001b[1;32m      3\u001b[0m \u001b[0;34m\u001b[0m\u001b[0m\n\u001b[1;32m      4\u001b[0m \u001b[0mpathMag\u001b[0m \u001b[0;34m=\u001b[0m \u001b[0mpath\u001b[0m \u001b[0;34m+\u001b[0m \u001b[0;34m'mag'\u001b[0m\u001b[0;34m\u001b[0m\u001b[0;34m\u001b[0m\u001b[0m\n\u001b[1;32m      5\u001b[0m \u001b[0mpathContinua\u001b[0m \u001b[0;34m=\u001b[0m \u001b[0mpath\u001b[0m \u001b[0;34m+\u001b[0m \u001b[0;34m'continuum'\u001b[0m\u001b[0;34m\u001b[0m\u001b[0;34m\u001b[0m\u001b[0m\n",
      "\u001b[0;31mNameError\u001b[0m: name 'datetime' is not defined"
     ]
    }
   ],
   "source": [
    "dataInicial = datetime.strptime(dataInicial,'%d/%m/%Y %H:%M:%S')\n",
    "dataFinal = datetime.strptime(dataFinal,'%d/%m/%Y %H:%M:%S')\n",
    "\n",
    "pathMag = path + 'mag'\n",
    "pathContinua = path + 'continuum'\n",
    "\n",
    "k=0\n",
    "\n",
    "aux_area_c = np.empty(6)\n",
    "aux_area_c.fill(np.nan)\n",
    "\n",
    "area_c = []\n",
    "\n",
    "aux_alpha_mu_spot = np.empty([6,11])\n",
    "aux_alpha_mu_spot.fill(np.nan)\n",
    "\n",
    "alpha_mu_spot = []\n",
    "\n",
    "area_disk_c = []\n",
    "time = []\n",
    "\n",
    "dataDaVez = dataInicial"
   ]
  },
  {
   "cell_type": "code",
   "execution_count": 6,
   "metadata": {},
   "outputs": [
    {
     "ename": "NameError",
     "evalue": "name 'dataDaVez' is not defined",
     "output_type": "error",
     "traceback": [
      "\u001b[0;31m---------------------------------------------------------------------------\u001b[0m",
      "\u001b[0;31mNameError\u001b[0m                                 Traceback (most recent call last)",
      "\u001b[0;32m<ipython-input-6-e963a52c7e2b>\u001b[0m in \u001b[0;36m<module>\u001b[0;34m\u001b[0m\n\u001b[0;32m----> 1\u001b[0;31m \u001b[0;32mwhile\u001b[0m \u001b[0mdataDaVez\u001b[0m\u001b[0;34m<=\u001b[0m\u001b[0mdataFinal\u001b[0m\u001b[0;34m:\u001b[0m\u001b[0;34m\u001b[0m\u001b[0;34m\u001b[0m\u001b[0m\n\u001b[0m\u001b[1;32m      2\u001b[0m \u001b[0;34m\u001b[0m\u001b[0m\n\u001b[1;32m      3\u001b[0m     \u001b[0mano\u001b[0m \u001b[0;34m=\u001b[0m \u001b[0mdataDaVez\u001b[0m\u001b[0;34m.\u001b[0m\u001b[0mstrftime\u001b[0m\u001b[0;34m(\u001b[0m\u001b[0;34m'%Y'\u001b[0m\u001b[0;34m)\u001b[0m\u001b[0;34m\u001b[0m\u001b[0;34m\u001b[0m\u001b[0m\n\u001b[1;32m      4\u001b[0m     \u001b[0mmes\u001b[0m \u001b[0;34m=\u001b[0m \u001b[0mdataDaVez\u001b[0m\u001b[0;34m.\u001b[0m\u001b[0mstrftime\u001b[0m\u001b[0;34m(\u001b[0m\u001b[0;34m'%m'\u001b[0m\u001b[0;34m)\u001b[0m\u001b[0;34m\u001b[0m\u001b[0;34m\u001b[0m\u001b[0m\n\u001b[1;32m      5\u001b[0m     \u001b[0mdia\u001b[0m \u001b[0;34m=\u001b[0m \u001b[0mdataDaVez\u001b[0m\u001b[0;34m.\u001b[0m\u001b[0mstrftime\u001b[0m\u001b[0;34m(\u001b[0m\u001b[0;34m'%d'\u001b[0m\u001b[0;34m)\u001b[0m\u001b[0;34m\u001b[0m\u001b[0;34m\u001b[0m\u001b[0m\n",
      "\u001b[0;31mNameError\u001b[0m: name 'dataDaVez' is not defined"
     ]
    }
   ],
   "source": [
    "while dataDaVez<=dataFinal:\n",
    "\n",
    "    ano = dataDaVez.strftime('%Y')\n",
    "    mes = dataDaVez.strftime('%m')\n",
    "    dia = dataDaVez.strftime('%d')\n",
    "    horas = dataDaVez.strftime('%H')\n",
    "    minutos = dataDaVez.strftime('%M')\n",
    "    segundos = dataDaVez.strftime('%S')\n",
    "\n",
    "    if ((horas=='00') | (horas == '06') | (horas == '12') | (horas == '18')) & ((minutos == '00') | (minutos == '30')):\n",
    "        print('\\nProcessando dia '+str(dataDaVez))\n",
    "\n",
    "        nomeImagem = ano + mes + dia + '_' + horas + minutos + segundos\n",
    "\n",
    "        nomeImagemContinua = nomeImagem + sufixoContinua\n",
    "        nomeImagemMag = nomeImagem + sufixoMag\n",
    "\n",
    "        pathImagemContinua = pathContinua + '\\\\' + nomeImagemContinua\n",
    "        pathImagemMag = pathMag + '\\\\' + nomeImagemMag\n",
    "\n",
    "        tHours = dataDaVez.hour/24\n",
    "        tMinutes = dataDaVez.minute/(24*60)\n",
    "        tSeconds = dataDaVez.second/(24*60*60)\n",
    "        t_obs_preliminary = dataDaVez.toordinal()+366+tHours+tMinutes+tSeconds\n",
    "\n",
    "        bw_mask = np.zeros((1024,1024))\n",
    "\n",
    "        import shelve\n",
    "\n",
    "        filename = 'D:\\\\Amita\\\\Doutorado\\\\Tese\\\\Traduzido\\\\IOFiles\\\\inputMagMasks.out'\n",
    "\n",
    "        my_shelf = shelve.open(filename,'n') # 'n' for new\n",
    "\n",
    "        for key in dir():\n",
    "            try:\n",
    "                if (key=='pathImagemMag') or (key=='bw_mask'):\n",
    "                    my_shelf[key] = globals()[key]\n",
    "            except TypeError:\n",
    "                #\n",
    "                # __builtins__, my_shelf, and imported modules can not be shelved.\n",
    "                #\n",
    "                print('ERROR shelving: {0}'.format(key))\n",
    "        my_shelf.close()\n",
    "        \n",
    "        try:\n",
    "            bw_mask, area_disk = magMasks(pathImagemMag,bw_mask)\n",
    "        except:\n",
    "            print('magMasks.py failed to ' + str(dataDaVez))\n",
    "\n",
    "        try:\n",
    "            bw_mask = continuumMasks(pathImagemContinua,bw_mask)\n",
    "        except:\n",
    "            print('continuumMasks.py failed to ' + str(dataDaVez))\n",
    "\n",
    "        area_disk_c = np.append(area_disk_c,area_disk)\n",
    "\n",
    "        if k == 0:\n",
    "            a = np.zeros_like(bw_mask)\n",
    "\n",
    "            a[np.where(bw_mask>0)] = 1\n",
    "            a = np.uint8(a)                \n",
    "\n",
    "            mu, mu_rings = calc_mu_hmi(a)\n",
    "\n",
    "        ndisk = np.count_nonzero(mu_rings)                \n",
    "\n",
    "        for i in range(2,8):\n",
    "            if i==5:\n",
    "                bw1 = (bw_mask == 5) | (bw_mask == 6) | (bw_mask == 7)\n",
    "                itemp = np.where(bw1)\n",
    "            elif i == 6:\n",
    "                bw1 = bw_mask == 6\n",
    "                itemp = np.where(bw1)\n",
    "            elif i == 7:\n",
    "                bw1 = bw_mask == 7\n",
    "                itemp = np.where(bw1)\n",
    "            else:\n",
    "                bw1 = bw_mask == i\n",
    "                itemp = np.where(bw1)\n",
    "\n",
    "            itemp = np.asarray(itemp)\n",
    "\n",
    "            if itemp.shape[1]>0:\n",
    "                aux_area_c[i-2] = itemp.shape[1]/area_disk_c[k]\n",
    "            else:\n",
    "                aux_area_c[i-2] = 0\n",
    "\n",
    "            '''VALORES DE MU_RINGS APRESENTAM DIFERENÇAS ENTRE MATLAB E PYTHON'''\n",
    "            for m in range(1,12):\n",
    "                temp = bw1*(mu_rings==m)\n",
    "                alpha_mu_preliminary = np.nansum(temp) / ndisk\n",
    "                aux_alpha_mu_spot[i-2][m-1] = alpha_mu_preliminary\n",
    "\n",
    "        area_c = np.append(area_c, [aux_area_c])\n",
    "\n",
    "        alpha_mu_spot = np.append(alpha_mu_spot, [aux_alpha_mu_spot])\n",
    "\n",
    "        time = np.append(time,t_obs_preliminary)\n",
    "\n",
    "        aux_area_c = np.empty(6)\n",
    "        aux_area_c.fill(np.nan)\n",
    "\n",
    "        aux_alpha_mu_spot = np.empty([6,11])\n",
    "        aux_alpha_mu_spot.fill(np.nan)\n",
    "\n",
    "        k = k+1\n",
    "\n",
    "        area_c = area_c.reshape(k,6)\n",
    "        alpha_mu_spot = alpha_mu_spot.reshape(k,6,11)\n",
    "\n",
    "    dataDaVez = dataDaVez + timedelta(minutes=resolucao)"
   ]
  },
  {
   "cell_type": "code",
   "execution_count": 7,
   "metadata": {},
   "outputs": [
    {
     "ename": "NameError",
     "evalue": "name 'path' is not defined",
     "output_type": "error",
     "traceback": [
      "\u001b[0;31m---------------------------------------------------------------------------\u001b[0m",
      "\u001b[0;31mNameError\u001b[0m                                 Traceback (most recent call last)",
      "\u001b[0;32m<ipython-input-7-1dd46a64ff8e>\u001b[0m in \u001b[0;36m<module>\u001b[0;34m\u001b[0m\n\u001b[0;32m----> 1\u001b[0;31m \u001b[0mprint\u001b[0m\u001b[0;34m(\u001b[0m\u001b[0;34m'\\nArquivos salvos em '\u001b[0m\u001b[0;34m+\u001b[0m\u001b[0mpath\u001b[0m\u001b[0;34m+\u001b[0m\u001b[0;34m' :\\n'\u001b[0m\u001b[0;34m)\u001b[0m\u001b[0;34m\u001b[0m\u001b[0;34m\u001b[0m\u001b[0m\n\u001b[0m\u001b[1;32m      2\u001b[0m \u001b[0mnp\u001b[0m\u001b[0;34m.\u001b[0m\u001b[0msavetxt\u001b[0m\u001b[0;34m(\u001b[0m\u001b[0mpath\u001b[0m\u001b[0;34m+\u001b[0m\u001b[0;34m'\\\\time.csv'\u001b[0m\u001b[0;34m,\u001b[0m \u001b[0mtime\u001b[0m\u001b[0;34m)\u001b[0m\u001b[0;34m\u001b[0m\u001b[0;34m\u001b[0m\u001b[0m\n\u001b[1;32m      3\u001b[0m \u001b[0mprint\u001b[0m\u001b[0;34m(\u001b[0m\u001b[0;34m'time.csv\\n'\u001b[0m\u001b[0;34m)\u001b[0m\u001b[0;34m\u001b[0m\u001b[0;34m\u001b[0m\u001b[0m\n\u001b[1;32m      4\u001b[0m \u001b[0;34m\u001b[0m\u001b[0m\n\u001b[1;32m      5\u001b[0m \u001b[0mnp\u001b[0m\u001b[0;34m.\u001b[0m\u001b[0msavetxt\u001b[0m\u001b[0;34m(\u001b[0m\u001b[0mpath\u001b[0m\u001b[0;34m+\u001b[0m\u001b[0;34m'\\\\area_c.csv'\u001b[0m\u001b[0;34m,\u001b[0m \u001b[0marea_c\u001b[0m\u001b[0;34m)\u001b[0m\u001b[0;34m\u001b[0m\u001b[0;34m\u001b[0m\u001b[0m\n",
      "\u001b[0;31mNameError\u001b[0m: name 'path' is not defined"
     ]
    }
   ],
   "source": [
    "print('\\nArquivos salvos em '+path+' :\\n')\n",
    "np.savetxt(path+'\\\\time.csv', time)\n",
    "print('time.csv\\n')\n",
    "\n",
    "np.savetxt(path+'\\\\area_c.csv', area_c)\n",
    "print('area_c.csv\\n')\n",
    "\n",
    "with open(path+'\\\\alpha_mu_spot.csv', 'w') as outfile:\n",
    "    # I'm writing a header here just for the sake of readability\n",
    "    # Any line starting with \"#\" will be ignored by numpy.loadtxt\n",
    "    outfile.write('# Array shape: {0}\\n'.format(alpha_mu_spot.shape))\n",
    "\n",
    "    # Iterating through a ndimensional array produces slices along\n",
    "    # the last axis. This is equivalent to data[i,:,:] in this case\n",
    "    for dataSlice in alpha_mu_spot:\n",
    "\n",
    "        # Writing out a break to indicate different slices...\n",
    "        outfile.write('# New slice\\n')\n",
    "\n",
    "        np.savetxt(outfile, dataSlice, fmt='%-7.5f')\n",
    "\n"
   ]
  },
  {
   "cell_type": "code",
   "execution_count": null,
   "metadata": {},
   "outputs": [],
   "source": [
    "print('alpha_mu_spot.csv\\n')"
   ]
  }
 ],
 "metadata": {
  "kernelspec": {
   "display_name": "Python 3",
   "language": "python",
   "name": "python3"
  },
  "language_info": {
   "codemirror_mode": {
    "name": "ipython",
    "version": 3
   },
   "file_extension": ".py",
   "mimetype": "text/x-python",
   "name": "python",
   "nbconvert_exporter": "python",
   "pygments_lexer": "ipython3",
   "version": "3.7.3"
  }
 },
 "nbformat": 4,
 "nbformat_minor": 2
}
