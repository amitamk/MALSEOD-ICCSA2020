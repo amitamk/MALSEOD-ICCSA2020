{
 "cells": [
  {
   "cell_type": "markdown",
   "metadata": {},
   "source": [
    "<h1><center>Function check_areas.py</center>\n",
    "<h3>Parameter used in check_areas:</h3>\n",
    "<ul>\n",
    "\t<li>path:</li>\n",
    "</ul>\n",
    "\n",
    "<h3>Function used in check_areas:</h3>\n",
    "<ul>\n",
    "    <li>le_interp(time[kk],area_c[kk,j])</li>\n",
    "</ul>  "
   ]
  },
  {
   "cell_type": "code",
   "execution_count": 1,
   "metadata": {},
   "outputs": [
    {
     "name": "stderr",
     "output_type": "stream",
     "text": [
      "Using TensorFlow backend.\n"
     ]
    }
   ],
   "source": [
    "from library import *"
   ]
  },
  {
   "cell_type": "code",
   "execution_count": null,
   "metadata": {},
   "outputs": [],
   "source": [
    "time = np.loadtxt(path+'time.csv')\n",
    "area_c = np.loadtxt(path+'area_c.csv')\n",
    "alpha_mu_spot = np.loadtxt(path+'alpha_mu_spot.csv')\n",
    "#alpha_mu_spot = np.loadtxt(path+'FileName.txt')\n",
    "\n",
    "alpha_mu_spot = np.reshape(alpha_mu_spot,(np.size(time),6,11))\n",
    "\n",
    "#area_c = area_c.reshape([np.size(time),6]) # UMA OPÇÃO AO IF QUE VEM EM SEGUIDA, NECESSÁRIO PARA SOMAR OS VALORES NO CASO DA AREA_C SER UMA MATRIZ UNIDIMENSIONAL\n",
    "\n",
    "if area_c.ndim > 1:\n",
    "    count = np.nansum(area_c,1)\n",
    "else:\n",
    "    count = np.nansum(area_c)\n",
    "\n",
    "mu = np.nanmean(count)\n",
    "sigma = np.nanstd(count)\n",
    "\n",
    "n=count.size\n",
    "\n",
    "meanMat = matlib.repmat(mu, n, 1)\n",
    "sigmaMat = matlib.repmat(sigma, n, 1)\n",
    "\n",
    "count = count.reshape(meanMat.shape)\n",
    "\n",
    "outliers = np.abs(count - meanMat) > (3*sigmaMat)\n",
    "\n",
    "area_c[np.any(outliers,1),:] = np.nan\n",
    "\n",
    "alpha_mu_spot[np.any(outliers,1),:] = np.nan\n",
    "\n",
    "\n",
    "'''QUAL É O OBJETIVO DAS PRÓXIMAS LINHAS (DE 129 À 143) DE CÓDIGO? ESTÁ DANDO ERRO PARA kk == 0 ''' \n",
    "ck, kk = np.unique(time, return_index=True)\n",
    "\n",
    "'''VERIFICAR AQUI SE OS VALORES RECEBIDOS POR KK SÃO REALMENTE OS PREVISTOS'''\n",
    "\n",
    "n = area_c.shape[1]\n",
    "\n",
    "for j in range(n):\n",
    "    area_c[kk,j] = le_interp(time[kk],area_c[kk,j])\n",
    "\n",
    "\n",
    "n = alpha_mu_spot.shape\n",
    "\n",
    "for j in range(n[1]):\n",
    "    for i in range(n[2]):\n",
    "        alpha_mu_spot[kk,j,i] = le_interp(time[kk],alpha_mu_spot[kk,j,i])\n",
    "\n",
    "print('\\nArquivos salvos em '+path+' :\\n')\n",
    "np.savetxt(path+'\\\\check_areas_time.csv', time)\n",
    "print('check_areas_time.csv\\n')\n",
    "\n",
    "np.savetxt(path+'\\\\check_areas_area_c.csv', area_c)\n",
    "print('check_areas_area_c.csv\\n')\n",
    "\n",
    "with open(path+'\\\\check_areas_alpha_mu_spot.csv', 'w') as outfile:\n",
    "    # I'm writing a header here just for the sake of readability\n",
    "    # Any line starting with \"#\" will be ignored by numpy.loadtxt\n",
    "    outfile.write('# Array shape: {0}\\n'.format(alpha_mu_spot.shape))\n",
    "\n",
    "    # Iterating through a ndimensional array produces slices along\n",
    "    # the last axis. This is equivalent to data[i,:,:] in this case\n",
    "    for dataSlice in alpha_mu_spot:\n",
    "\n",
    "        # Writing out a break to indicate different slices...\n",
    "        outfile.write('# New slice\\n')\n",
    "\n",
    "        np.savetxt(outfile, dataSlice, fmt='%-7.5f')\n",
    "\n",
    "\n",
    "print('check_areas_alpha_mu_spot.csv\\n')\n",
    "\n",
    "return time, area_c, alpha_mu_spot\n"
   ]
  }
 ],
 "metadata": {
  "kernelspec": {
   "display_name": "Python 3",
   "language": "python",
   "name": "python3"
  },
  "language_info": {
   "codemirror_mode": {
    "name": "ipython",
    "version": 3
   },
   "file_extension": ".py",
   "mimetype": "text/x-python",
   "name": "python",
   "nbconvert_exporter": "python",
   "pygments_lexer": "ipython3",
   "version": "3.7.3"
  }
 },
 "nbformat": 4,
 "nbformat_minor": 2
}
