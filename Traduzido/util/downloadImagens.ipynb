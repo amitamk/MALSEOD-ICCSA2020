{
 "cells": [
  {
   "cell_type": "markdown",
   "metadata": {},
   "source": [
    "<h1><center>Function downloadImages.py</center>\n",
    "    <h3>This function downloads images from a specified website, from an initial date to a final date defined, after defining a sufix.\n",
    "\n",
    "### Parameters used for function downloadImagens:\n",
    "<ul>\n",
    "\t<li>url: the website address where the data can be downloaded</li>\n",
    "\t<li>path: the computer path where the data will be saved and readed afterwards</li>\n",
    "    <li>dataInicial: the initial date which has been defined for the time serie first data formatted as 'dd/mm/yyyy hh:mm:ss'</li>\n",
    "    <li>dataFinal: the final date which has been defined for the time serie last data formatted as 'dd/mm/yyyy hh:mm:ss'</li>\n",
    "    <li>resolucao: the interval wanted between each observation (in minutes)</li>\n",
    "    <li>sufixo: the sequence of letters, digits or/and symbols used for the files sufix</li>\n",
    "</ul>"
   ]
  },
  {
   "cell_type": "markdown",
   "metadata": {},
   "source": [
    "#### 1) Importing a file with all the library needed on the code:"
   ]
  },
  {
   "cell_type": "code",
   "execution_count": 1,
   "metadata": {},
   "outputs": [
    {
     "name": "stderr",
     "output_type": "stream",
     "text": [
      "Using TensorFlow backend.\n"
     ]
    }
   ],
   "source": [
    "from library import *"
   ]
  },
  {
   "cell_type": "markdown",
   "metadata": {},
   "source": [
    "#### 2) Importing the defined values in settings.py. They are url, path, dataInicial, dataFinal, resolucao and sufixo."
   ]
  },
  {
   "cell_type": "code",
   "execution_count": 13,
   "metadata": {},
   "outputs": [],
   "source": [
    "import settings"
   ]
  },
  {
   "cell_type": "markdown",
   "metadata": {},
   "source": [
    "#### 3) The date values are converted to extract each info of day, month, year, hours, minutes and seconds."
   ]
  },
  {
   "cell_type": "code",
   "execution_count": 18,
   "metadata": {},
   "outputs": [],
   "source": [
    "dataFinal = datetime.strptime(settings.dataFinal,'%d/%m/%Y %H:%M:%S')\n",
    "dataInicial = datetime.strptime(settings.dataInicial,'%d/%m/%Y %H:%M:%S')\n",
    "\n",
    "dataDaVez = dataInicial    \n",
    "\n",
    "previstos = 0\n",
    "baixados = 0\n",
    "\n",
    "# Define the sufix values of the name \n",
    "#sufixo = '_Ic_flat_1k.jpg'\n",
    "#sufixo = '_M_1k.jpg'"
   ]
  },
  {
   "cell_type": "markdown",
   "metadata": {},
   "source": [
    "#### 4) After setting up properly each image name the way as it is available on the website, images are downloaded and saved in the defined path."
   ]
  },
  {
   "cell_type": "code",
   "execution_count": null,
   "metadata": {},
   "outputs": [],
   "source": [
    "while dataDaVez<=dataFinal:\n",
    "\n",
    "    try:\n",
    "        nomeImagem = dataDaVez.strftime('%Y') + dataDaVez.strftime('%m') + dataDaVez.strftime('%d') + '_' + dataDaVez.strftime('%H') + dataDaVez.strftime('%M') + dataDaVez.strftime('%S') + sufixo\n",
    "        pathImagem = settings.path + '\\\\' + nomeImagem\n",
    "\n",
    "        if not(os.path.isfile(pathImagem)):\n",
    "            urlData = settings.url + '/' + dataDaVez.strftime('%Y') + '/' + dataDaVez.strftime('%m') + '/' + dataDaVez.strftime('%d') + '/' + nomeImagem\n",
    "            imagem = request.urlopen(urlData)\n",
    "            f = open(pathImagem, 'wb')\n",
    "            f.write(imagem.read())\n",
    "            f.close()\n",
    "            print(pathImagem + '- arquivo baixado!')\n",
    "        else:\n",
    "            print(pathImagem + '- arquivo já existente!')\n",
    "\n",
    "        baixados += 1\n",
    "        # LENDO A IMAGEM:\n",
    "        #img=mpimg.imread(pathImagem)\n",
    "        #imgplot = plt.imshow(img)\n",
    "        #plt.show()\n",
    "\n",
    "    #except request.URLError:\n",
    "    #    print(dataDaVez, \"não disponível. (Erro de URL)\")\n",
    "\n",
    "    except:\n",
    "        print(\"Ocorreu algum erro ao baixar\", nomeImagem, \".\")\n",
    "\n",
    "    dataDaVez = dataDaVez + timedelta(minutes=resolucao)  \n",
    "    previstos += 1\n"
   ]
  },
  {
   "cell_type": "markdown",
   "metadata": {},
   "source": [
    "#### 5) The number of files expected are compared to the number of files downloaded."
   ]
  },
  {
   "cell_type": "code",
   "execution_count": null,
   "metadata": {},
   "outputs": [],
   "source": [
    "print('\\nBaixados(ou existentes):'+str(baixados)+'\\tPrevistos:'+str(previstos))"
   ]
  }
 ],
 "metadata": {
  "kernelspec": {
   "display_name": "Python 3",
   "language": "python",
   "name": "python3"
  },
  "language_info": {
   "codemirror_mode": {
    "name": "ipython",
    "version": 3
   },
   "file_extension": ".py",
   "mimetype": "text/x-python",
   "name": "python",
   "nbconvert_exporter": "python",
   "pygments_lexer": "ipython3",
   "version": "3.7.3"
  }
 },
 "nbformat": 4,
 "nbformat_minor": 2
}
